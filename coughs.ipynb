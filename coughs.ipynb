{
 "cells": [
  {
   "cell_type": "code",
   "execution_count": 1,
   "metadata": {},
   "outputs": [],
   "source": [
    "original_path=\"./dataset_original\"  ### please enter path to cough dataset\n",
    "device='cuda' ###please enter device: cuda or cpu"
   ]
  },
  {
   "cell_type": "code",
   "execution_count": 2,
   "metadata": {},
   "outputs": [],
   "source": [
    "#imports\n",
    "import numpy as np\n",
    "import math\n",
    "from tqdm.notebook import tqdm\n",
    "import matplotlib.pyplot as plt\n",
    "import librosa\n",
    "from pydub import AudioSegment\n",
    "#from PIL import Image \n",
    "import os\n",
    "\n",
    "#tensorboard\n",
    "%load_ext tensorboard\n",
    "from tensorflow import summary\n",
    "import tensorflow as tf\n",
    "\n",
    "#pytorch\n",
    "import torch\n",
    "import torchvision\n",
    "import torch.nn as nn\n",
    "import torch.nn.functional as F\n",
    "import torch.optim as optim\n",
    "from torch.utils.data import Dataset, DataLoader\n",
    "\n",
    "#directory for saving trained model\n",
    "if not os.path.exists('./models'):\n",
    "    os.makedirs('./models')"
   ]
  },
  {
   "cell_type": "code",
   "execution_count": 3,
   "metadata": {},
   "outputs": [
    {
     "name": "stdout",
     "output_type": "stream",
     "text": [
      "env: CUBLAS_WORKSPACE_CONFIG=:16:8\n"
     ]
    }
   ],
   "source": [
    "#set seed\n",
    "%env CUBLAS_WORKSPACE_CONFIG=:16:8\n",
    "torch.backends.cudnn.deterministic = True\n",
    "torch.set_deterministic(True)\n",
    "torch.manual_seed(19)\n",
    "torch.cuda.manual_seed(19)\n",
    "np.random.seed(19)"
   ]
  },
  {
   "cell_type": "code",
   "execution_count": 4,
   "metadata": {},
   "outputs": [],
   "source": [
    "#convert mp3 to wav\n",
    "pos_path=original_path+\"/segmented/pos/\"\n",
    "neg_path=original_path+\"/segmented/neg/\"\n",
    "\n",
    "wav_path='./dataset_wav/'\n",
    "\n",
    "#create directories for wav files\n",
    "if not os.path.exists(wav_path):\n",
    "    os.makedirs(wav_path)\n",
    "\n",
    "#mp3 to wav conversion    \n",
    "for i in os.listdir(pos_path):\n",
    "    if i[-8]!='2': ##exclude a patient from the dataset\n",
    "        AudioSegment.from_mp3(pos_path+i).export(wav_path+i[0:-3]+'wav', format=\"wav\")\n",
    "for i in os.listdir(neg_path):\n",
    "    AudioSegment.from_mp3(neg_path+i).export(wav_path+i[0:-3]+'wav', format=\"wav\")        "
   ]
  },
  {
   "cell_type": "code",
   "execution_count": 5,
   "metadata": {},
   "outputs": [],
   "source": [
    "class spectogram():\n",
    "    \n",
    "    def __init__(self, path):\n",
    "        self.path = path\n",
    "        \n",
    "    def __len__(self):\n",
    "        return len(os.listdir(self.path))\n",
    "\n",
    "    def __getitem__(self, idx):\n",
    "        \n",
    "        y, sr=librosa.load(self.path+os.listdir(self.path)[idx])\n",
    "        sgram=librosa.feature.melspectrogram(y=y, sr=sr)\n",
    "        sgram=torch.tensor(sgram).unsqueeze(1).permute(1,0,2)\n",
    "        \n",
    "        data=dict()\n",
    "        data['sgram']=sgram\n",
    "        \n",
    "        if os.listdir(self.path)[idx][0]=='p':\n",
    "            data['class']= \"positive\"\n",
    "            data['label']= 1\n",
    "        else:    \n",
    "            data['class']= \"negative\"\n",
    "            data['label']= 0  \n",
    "            \n",
    "        return data"
   ]
  },
  {
   "cell_type": "code",
   "execution_count": 6,
   "metadata": {},
   "outputs": [
    {
     "name": "stdout",
     "output_type": "stream",
     "text": [
      "93 + 23 = 116\n"
     ]
    }
   ],
   "source": [
    "#prepare dataset\n",
    "dataset= spectogram(wav_path)\n",
    "L=len(dataset)\n",
    "\n",
    "#split in train, test, validation\n",
    "train_set, test_set = \\\n",
    "torch.utils.data.random_split(dataset,[math.ceil(L*0.8),int(L*0.2)])\n",
    "\n",
    "print(len(train_set),'+', len(test_set),'=',L)\n",
    "\n",
    "#dataloader\n",
    "batch_size=16\n",
    "\n",
    "#dataset_dl=DataLoader(dataset, batch_size=batch_size, shuffle=True)\n",
    "train_dl = DataLoader(train_set, batch_size=batch_size, shuffle=True)\n",
    "test_dl = DataLoader(test_set, batch_size=1, shuffle=False)\n"
   ]
  },
  {
   "cell_type": "code",
   "execution_count": 7,
   "metadata": {},
   "outputs": [
    {
     "name": "stdout",
     "output_type": "stream",
     "text": [
      "torch.Size([16, 1, 128, 69])\n",
      "tensor([1, 1, 1, 0, 1, 1, 0, 0, 1, 1, 0, 1, 0, 0, 0, 1])\n"
     ]
    }
   ],
   "source": [
    "#view the dataloader\n",
    "sample=next(iter(train_dl))\n",
    "print(sample['sgram'].shape) # batch_size, channels, height, width\n",
    "print(sample['label'])# 1 or 0"
   ]
  },
  {
   "cell_type": "code",
   "execution_count": 8,
   "metadata": {},
   "outputs": [],
   "source": [
    "#CNNs\n",
    "class Model(nn.Module):\n",
    "    def __init__(self, height=128, width=69, dim_output=2):\n",
    "        super(Model, self).__init__()\n",
    "        \n",
    "        self.H=height\n",
    "        self.W=width\n",
    "        self.output=dim_output\n",
    "        \n",
    "        self.max_pool = nn.MaxPool2d(kernel_size=2, stride=2)\n",
    "        self.activation = nn.ReLU()\n",
    "        self.dropout= nn.Dropout(p=0.5) \n",
    "        self.bn1= nn.BatchNorm2d(32) \n",
    "        self.bn2= nn.BatchNorm2d(64)\n",
    "        self.bn3= nn.BatchNorm2d(128)\n",
    "        \n",
    "        #convolutions\n",
    "        self.conv1 = nn.Conv2d( 1,  32,kernel_size=3, stride=1, padding=1)\n",
    "        self.conv2 = nn.Conv2d(32,  64,kernel_size=3, stride=1, padding=1)\n",
    "        self.conv3 = nn.Conv2d(64, 128,kernel_size=3, stride=1, padding=1)\n",
    "        \n",
    "        #fully connected\n",
    "        self.fc1 = nn.Linear(128*(self.H//8)*(self.W//8),128) \n",
    "        self.fc2 = nn.Linear(128,64)\n",
    "        self.fc3 = nn.Linear(64,self.output)\n",
    "        \n",
    "        #sequential\n",
    "        self.layer1=nn.Sequential(self.conv1, self.bn1, self.max_pool, self.activation)\n",
    "        self.layer2=nn.Sequential(self.conv2, self.bn2, self.max_pool, self.activation)\n",
    "        self.layer3=nn.Sequential(self.conv3, self.bn3, self.max_pool, self.activation)\n",
    "        self.layer4=nn.Sequential(self.fc1, self.activation, self.dropout)\n",
    "        self.layer5=nn.Sequential(self.fc2, self.activation, self.dropout)\n",
    "        \n",
    "    def forward(self, img):\n",
    "        \n",
    "        out=self.layer3(self.layer2(self.layer1(img)))\n",
    "        \n",
    "        ###flattening\n",
    "        batch_size =img.shape[0]\n",
    "        out=out.view(batch_size, -1)\n",
    "        \n",
    "        out=self.fc3(self.layer5(self.layer4(out)))\n",
    "       \n",
    "        return out           "
   ]
  },
  {
   "cell_type": "code",
   "execution_count": 9,
   "metadata": {},
   "outputs": [
    {
     "data": {
      "text/plain": [
       "torch.Size([16, 2])"
      ]
     },
     "execution_count": 9,
     "metadata": {},
     "output_type": "execute_result"
    }
   ],
   "source": [
    "#model and optimizer\n",
    "model = Model()\n",
    "model = model.to(device) \n",
    "\n",
    "optimizer = optim.Adam(model.parameters(), lr=1e-3, weight_decay=1e-6)\n",
    "\n",
    "#print(model)\n",
    "sample_out=model(sample['sgram'].to(device)) \n",
    "sample_out.shape"
   ]
  },
  {
   "cell_type": "code",
   "execution_count": 10,
   "metadata": {},
   "outputs": [],
   "source": [
    "#train function\n",
    "def train(model, optimizer, sample):\n",
    "    model.train()\n",
    "\n",
    "    criterion = nn.CrossEntropyLoss()\n",
    "    \n",
    "    # reset optimizer's gradient\n",
    "    optimizer.zero_grad()\n",
    "\n",
    "    # define input and output\n",
    "    img = sample['sgram'].float().to(device) \n",
    "    label = sample['label'].long().to(device)\n",
    "  \n",
    "    # get the prediction\n",
    "    pred = model(img) \n",
    "\n",
    "    pred_loss = criterion(pred, label)\n",
    "    \n",
    "    # regularization loss\n",
    "    reg_loss= 0.0\n",
    "    for p in model.parameters():\n",
    "        if p.requires_grad: # if p is a trainable parameter\n",
    "            reg_loss+=torch.norm(p,2)\n",
    "\n",
    "    total_loss= pred_loss + 1e-6 * reg_loss\n",
    "    \n",
    "    num_correct = sum(torch.argmax(pred, dim=1) == label)\n",
    "    \n",
    "    #one step of training\n",
    "    total_loss.backward()\n",
    "    optimizer.step()\n",
    "\n",
    "    return total_loss.item(), num_correct.item()"
   ]
  },
  {
   "cell_type": "code",
   "execution_count": 11,
   "metadata": {},
   "outputs": [],
   "source": [
    "#test function\n",
    "def test(model, sample): \n",
    "    model.eval()\n",
    "\n",
    "    criterion = nn.CrossEntropyLoss()\n",
    "    \n",
    "    with torch.no_grad(): \n",
    "        \n",
    "        img = sample['sgram'].float().to(device)\n",
    "        label = sample['label'].long().to(device)\n",
    "       \n",
    "        # get the prediction\n",
    "        pred = model(img)\n",
    "        \n",
    "        pred_loss = criterion(pred, label)\n",
    "        \n",
    "        # regularization loss\n",
    "        reg_loss= 0.0\n",
    "        for p in model.parameters():\n",
    "            if p.requires_grad: # if p is a trainable parameter\n",
    "                reg_loss+=torch.norm(p,2)\n",
    "\n",
    "        total_loss= pred_loss + 1e-6 * reg_loss\n",
    "        \n",
    "        num_correct = sum(torch.argmax(pred, dim=1) == label)\n",
    "\n",
    "    return total_loss.item(), num_correct.item()"
   ]
  },
  {
   "cell_type": "code",
   "execution_count": 12,
   "metadata": {},
   "outputs": [],
   "source": [
    "#prepare tensorboard\n",
    "train_log_dir = './models/runs_cnn/train'\n",
    "train_summary_writer = summary.create_file_writer(train_log_dir)\n",
    "test_log_dir = './models/runs_cnn/test'\n",
    "test_summary_writer = summary.create_file_writer(test_log_dir)"
   ]
  },
  {
   "cell_type": "code",
   "execution_count": 13,
   "metadata": {},
   "outputs": [
    {
     "data": {
      "application/vnd.jupyter.widget-view+json": {
       "model_id": "fdb8592a99434689aa7534b4321fbf0b",
       "version_major": 2,
       "version_minor": 0
      },
      "text/plain": [
       "HBox(children=(FloatProgress(value=0.0, max=23.0), HTML(value='')))"
      ]
     },
     "metadata": {},
     "output_type": "display_data"
    },
    {
     "data": {
      "application/vnd.jupyter.widget-view+json": {
       "model_id": "7ee0af23fe4045848186f34edccfe99f",
       "version_major": 2,
       "version_minor": 0
      },
      "text/plain": [
       "HBox(children=(FloatProgress(value=0.0, max=6.0), HTML(value='')))"
      ]
     },
     "metadata": {},
     "output_type": "display_data"
    },
    {
     "name": "stdout",
     "output_type": "stream",
     "text": [
      "\n"
     ]
    },
    {
     "data": {
      "application/vnd.jupyter.widget-view+json": {
       "model_id": "696ecde38eee4c0fb9981614514afc25",
       "version_major": 2,
       "version_minor": 0
      },
      "text/plain": [
       "HBox(children=(FloatProgress(value=0.0, max=23.0), HTML(value='')))"
      ]
     },
     "metadata": {},
     "output_type": "display_data"
    },
    {
     "name": "stdout",
     "output_type": "stream",
     "text": [
      "\n",
      "0.6021505376344086 0.6956521739130432\n"
     ]
    },
    {
     "data": {
      "application/vnd.jupyter.widget-view+json": {
       "model_id": "b2d6c39b267e4086bfe3eeb7d8af9ae5",
       "version_major": 2,
       "version_minor": 0
      },
      "text/plain": [
       "HBox(children=(FloatProgress(value=0.0, max=6.0), HTML(value='')))"
      ]
     },
     "metadata": {},
     "output_type": "display_data"
    },
    {
     "name": "stdout",
     "output_type": "stream",
     "text": [
      "\n"
     ]
    },
    {
     "data": {
      "application/vnd.jupyter.widget-view+json": {
       "model_id": "b414c51f99ba4b9190ff8a4959bd7466",
       "version_major": 2,
       "version_minor": 0
      },
      "text/plain": [
       "HBox(children=(FloatProgress(value=0.0, max=23.0), HTML(value='')))"
      ]
     },
     "metadata": {},
     "output_type": "display_data"
    },
    {
     "name": "stdout",
     "output_type": "stream",
     "text": [
      "\n",
      "0.5913978494623655 0.8260869565217388\n"
     ]
    },
    {
     "data": {
      "application/vnd.jupyter.widget-view+json": {
       "model_id": "42f69b0099d243cab7381386482c022f",
       "version_major": 2,
       "version_minor": 0
      },
      "text/plain": [
       "HBox(children=(FloatProgress(value=0.0, max=6.0), HTML(value='')))"
      ]
     },
     "metadata": {},
     "output_type": "display_data"
    },
    {
     "name": "stdout",
     "output_type": "stream",
     "text": [
      "\n"
     ]
    },
    {
     "data": {
      "application/vnd.jupyter.widget-view+json": {
       "model_id": "c40c8d80cfd942e294ba52651ae99c0e",
       "version_major": 2,
       "version_minor": 0
      },
      "text/plain": [
       "HBox(children=(FloatProgress(value=0.0, max=23.0), HTML(value='')))"
      ]
     },
     "metadata": {},
     "output_type": "display_data"
    },
    {
     "name": "stdout",
     "output_type": "stream",
     "text": [
      "\n",
      "0.6021505376344086 0.8260869565217388\n"
     ]
    },
    {
     "data": {
      "application/vnd.jupyter.widget-view+json": {
       "model_id": "473bcce2e3174c61bfd3cedca2d5ac74",
       "version_major": 2,
       "version_minor": 0
      },
      "text/plain": [
       "HBox(children=(FloatProgress(value=0.0, max=6.0), HTML(value='')))"
      ]
     },
     "metadata": {},
     "output_type": "display_data"
    },
    {
     "name": "stdout",
     "output_type": "stream",
     "text": [
      "\n"
     ]
    },
    {
     "data": {
      "application/vnd.jupyter.widget-view+json": {
       "model_id": "40671164edc64ff1a8b63aa543e40469",
       "version_major": 2,
       "version_minor": 0
      },
      "text/plain": [
       "HBox(children=(FloatProgress(value=0.0, max=23.0), HTML(value='')))"
      ]
     },
     "metadata": {},
     "output_type": "display_data"
    },
    {
     "name": "stdout",
     "output_type": "stream",
     "text": [
      "\n",
      "0.6236559139784945 0.7391304347826084\n"
     ]
    },
    {
     "data": {
      "application/vnd.jupyter.widget-view+json": {
       "model_id": "dabe8e92e14540c6aa978bf9ad376301",
       "version_major": 2,
       "version_minor": 0
      },
      "text/plain": [
       "HBox(children=(FloatProgress(value=0.0, max=6.0), HTML(value='')))"
      ]
     },
     "metadata": {},
     "output_type": "display_data"
    },
    {
     "name": "stdout",
     "output_type": "stream",
     "text": [
      "\n"
     ]
    },
    {
     "data": {
      "application/vnd.jupyter.widget-view+json": {
       "model_id": "86937f5e08e64412979ad9877baaef66",
       "version_major": 2,
       "version_minor": 0
      },
      "text/plain": [
       "HBox(children=(FloatProgress(value=0.0, max=23.0), HTML(value='')))"
      ]
     },
     "metadata": {},
     "output_type": "display_data"
    },
    {
     "name": "stdout",
     "output_type": "stream",
     "text": [
      "\n",
      "0.6236559139784947 0.8260869565217388\n"
     ]
    },
    {
     "data": {
      "application/vnd.jupyter.widget-view+json": {
       "model_id": "7f202695fa36456fadb6e33f086d4dcf",
       "version_major": 2,
       "version_minor": 0
      },
      "text/plain": [
       "HBox(children=(FloatProgress(value=0.0, max=6.0), HTML(value='')))"
      ]
     },
     "metadata": {},
     "output_type": "display_data"
    },
    {
     "name": "stdout",
     "output_type": "stream",
     "text": [
      "\n"
     ]
    },
    {
     "data": {
      "application/vnd.jupyter.widget-view+json": {
       "model_id": "c92201862f0f40bc91232059a74ad4fb",
       "version_major": 2,
       "version_minor": 0
      },
      "text/plain": [
       "HBox(children=(FloatProgress(value=0.0, max=23.0), HTML(value='')))"
      ]
     },
     "metadata": {},
     "output_type": "display_data"
    },
    {
     "name": "stdout",
     "output_type": "stream",
     "text": [
      "\n",
      "0.6881720430107527 0.6956521739130432\n"
     ]
    },
    {
     "data": {
      "application/vnd.jupyter.widget-view+json": {
       "model_id": "46bd892764a5442995c51fe503048d8d",
       "version_major": 2,
       "version_minor": 0
      },
      "text/plain": [
       "HBox(children=(FloatProgress(value=0.0, max=6.0), HTML(value='')))"
      ]
     },
     "metadata": {},
     "output_type": "display_data"
    },
    {
     "name": "stdout",
     "output_type": "stream",
     "text": [
      "\n"
     ]
    },
    {
     "data": {
      "application/vnd.jupyter.widget-view+json": {
       "model_id": "10e57e5c2dc6492a88dc2a935b09a862",
       "version_major": 2,
       "version_minor": 0
      },
      "text/plain": [
       "HBox(children=(FloatProgress(value=0.0, max=23.0), HTML(value='')))"
      ]
     },
     "metadata": {},
     "output_type": "display_data"
    },
    {
     "name": "stdout",
     "output_type": "stream",
     "text": [
      "\n",
      "0.6881720430107527 0.869565217391304\n"
     ]
    },
    {
     "data": {
      "application/vnd.jupyter.widget-view+json": {
       "model_id": "61b3dc4abded483981742719fa0dfed6",
       "version_major": 2,
       "version_minor": 0
      },
      "text/plain": [
       "HBox(children=(FloatProgress(value=0.0, max=6.0), HTML(value='')))"
      ]
     },
     "metadata": {},
     "output_type": "display_data"
    },
    {
     "name": "stdout",
     "output_type": "stream",
     "text": [
      "\n"
     ]
    },
    {
     "data": {
      "application/vnd.jupyter.widget-view+json": {
       "model_id": "a62708be568044c89fe6735ab8f6609f",
       "version_major": 2,
       "version_minor": 0
      },
      "text/plain": [
       "HBox(children=(FloatProgress(value=0.0, max=23.0), HTML(value='')))"
      ]
     },
     "metadata": {},
     "output_type": "display_data"
    },
    {
     "name": "stdout",
     "output_type": "stream",
     "text": [
      "\n",
      "0.6559139784946237 0.8260869565217388\n"
     ]
    },
    {
     "data": {
      "application/vnd.jupyter.widget-view+json": {
       "model_id": "54853052097844d6aa5ce13e51d751d2",
       "version_major": 2,
       "version_minor": 0
      },
      "text/plain": [
       "HBox(children=(FloatProgress(value=0.0, max=6.0), HTML(value='')))"
      ]
     },
     "metadata": {},
     "output_type": "display_data"
    },
    {
     "name": "stdout",
     "output_type": "stream",
     "text": [
      "\n"
     ]
    },
    {
     "data": {
      "application/vnd.jupyter.widget-view+json": {
       "model_id": "beeee2dbaec04312b861339967431242",
       "version_major": 2,
       "version_minor": 0
      },
      "text/plain": [
       "HBox(children=(FloatProgress(value=0.0, max=23.0), HTML(value='')))"
      ]
     },
     "metadata": {},
     "output_type": "display_data"
    },
    {
     "name": "stdout",
     "output_type": "stream",
     "text": [
      "\n",
      "0.6451612903225806 0.8260869565217388\n"
     ]
    },
    {
     "data": {
      "application/vnd.jupyter.widget-view+json": {
       "model_id": "d5e8190dffd0402287d93d65d528a910",
       "version_major": 2,
       "version_minor": 0
      },
      "text/plain": [
       "HBox(children=(FloatProgress(value=0.0, max=6.0), HTML(value='')))"
      ]
     },
     "metadata": {},
     "output_type": "display_data"
    },
    {
     "name": "stdout",
     "output_type": "stream",
     "text": [
      "\n"
     ]
    },
    {
     "data": {
      "application/vnd.jupyter.widget-view+json": {
       "model_id": "9b6054a42b994df5952fcb221642e2b9",
       "version_major": 2,
       "version_minor": 0
      },
      "text/plain": [
       "HBox(children=(FloatProgress(value=0.0, max=23.0), HTML(value='')))"
      ]
     },
     "metadata": {},
     "output_type": "display_data"
    },
    {
     "name": "stdout",
     "output_type": "stream",
     "text": [
      "\n",
      "0.6451612903225807 0.7826086956521736\n"
     ]
    },
    {
     "data": {
      "application/vnd.jupyter.widget-view+json": {
       "model_id": "7a5708e6083a4717a501c0489573874a",
       "version_major": 2,
       "version_minor": 0
      },
      "text/plain": [
       "HBox(children=(FloatProgress(value=0.0, max=6.0), HTML(value='')))"
      ]
     },
     "metadata": {},
     "output_type": "display_data"
    },
    {
     "name": "stdout",
     "output_type": "stream",
     "text": [
      "\n"
     ]
    },
    {
     "data": {
      "application/vnd.jupyter.widget-view+json": {
       "model_id": "2083ddf6c1ea4d27b79b6331f2bfd7c0",
       "version_major": 2,
       "version_minor": 0
      },
      "text/plain": [
       "HBox(children=(FloatProgress(value=0.0, max=23.0), HTML(value='')))"
      ]
     },
     "metadata": {},
     "output_type": "display_data"
    },
    {
     "name": "stdout",
     "output_type": "stream",
     "text": [
      "\n",
      "0.8279569892473118 0.8260869565217388\n"
     ]
    },
    {
     "data": {
      "application/vnd.jupyter.widget-view+json": {
       "model_id": "2506ad0e0802477d890af2ab95b85687",
       "version_major": 2,
       "version_minor": 0
      },
      "text/plain": [
       "HBox(children=(FloatProgress(value=0.0, max=6.0), HTML(value='')))"
      ]
     },
     "metadata": {},
     "output_type": "display_data"
    },
    {
     "name": "stdout",
     "output_type": "stream",
     "text": [
      "\n"
     ]
    },
    {
     "data": {
      "application/vnd.jupyter.widget-view+json": {
       "model_id": "43e6d2a6437245bbab4742e6cc4409b1",
       "version_major": 2,
       "version_minor": 0
      },
      "text/plain": [
       "HBox(children=(FloatProgress(value=0.0, max=23.0), HTML(value='')))"
      ]
     },
     "metadata": {},
     "output_type": "display_data"
    },
    {
     "name": "stdout",
     "output_type": "stream",
     "text": [
      "\n",
      "0.7741935483870968 0.9565217391304344\n"
     ]
    },
    {
     "data": {
      "application/vnd.jupyter.widget-view+json": {
       "model_id": "4a0dcea51c1a43219750fd4919df5cc6",
       "version_major": 2,
       "version_minor": 0
      },
      "text/plain": [
       "HBox(children=(FloatProgress(value=0.0, max=6.0), HTML(value='')))"
      ]
     },
     "metadata": {},
     "output_type": "display_data"
    },
    {
     "name": "stdout",
     "output_type": "stream",
     "text": [
      "\n"
     ]
    },
    {
     "data": {
      "application/vnd.jupyter.widget-view+json": {
       "model_id": "f3c3dab694c0405db9838985b67ff425",
       "version_major": 2,
       "version_minor": 0
      },
      "text/plain": [
       "HBox(children=(FloatProgress(value=0.0, max=23.0), HTML(value='')))"
      ]
     },
     "metadata": {},
     "output_type": "display_data"
    },
    {
     "name": "stdout",
     "output_type": "stream",
     "text": [
      "\n",
      "0.8279569892473118 0.9130434782608692\n"
     ]
    },
    {
     "data": {
      "application/vnd.jupyter.widget-view+json": {
       "model_id": "9cc41bcf8cc74e05900324857c87e7ee",
       "version_major": 2,
       "version_minor": 0
      },
      "text/plain": [
       "HBox(children=(FloatProgress(value=0.0, max=6.0), HTML(value='')))"
      ]
     },
     "metadata": {},
     "output_type": "display_data"
    },
    {
     "name": "stdout",
     "output_type": "stream",
     "text": [
      "\n"
     ]
    },
    {
     "data": {
      "application/vnd.jupyter.widget-view+json": {
       "model_id": "235a4283e930400a866fc3095974f373",
       "version_major": 2,
       "version_minor": 0
      },
      "text/plain": [
       "HBox(children=(FloatProgress(value=0.0, max=23.0), HTML(value='')))"
      ]
     },
     "metadata": {},
     "output_type": "display_data"
    },
    {
     "name": "stdout",
     "output_type": "stream",
     "text": [
      "\n",
      "0.7526881720430108 0.9130434782608692\n"
     ]
    },
    {
     "data": {
      "application/vnd.jupyter.widget-view+json": {
       "model_id": "c035104b01b443959cf03b3bc565d490",
       "version_major": 2,
       "version_minor": 0
      },
      "text/plain": [
       "HBox(children=(FloatProgress(value=0.0, max=6.0), HTML(value='')))"
      ]
     },
     "metadata": {},
     "output_type": "display_data"
    },
    {
     "name": "stdout",
     "output_type": "stream",
     "text": [
      "\n"
     ]
    },
    {
     "data": {
      "application/vnd.jupyter.widget-view+json": {
       "model_id": "4474409d58934f5dad0f587095e316d6",
       "version_major": 2,
       "version_minor": 0
      },
      "text/plain": [
       "HBox(children=(FloatProgress(value=0.0, max=23.0), HTML(value='')))"
      ]
     },
     "metadata": {},
     "output_type": "display_data"
    },
    {
     "name": "stdout",
     "output_type": "stream",
     "text": [
      "\n",
      "0.8602150537634408 0.9130434782608692\n"
     ]
    },
    {
     "data": {
      "application/vnd.jupyter.widget-view+json": {
       "model_id": "3b0ee7be7ca648a3b2da08b07287f21b",
       "version_major": 2,
       "version_minor": 0
      },
      "text/plain": [
       "HBox(children=(FloatProgress(value=0.0, max=6.0), HTML(value='')))"
      ]
     },
     "metadata": {},
     "output_type": "display_data"
    },
    {
     "name": "stdout",
     "output_type": "stream",
     "text": [
      "\n"
     ]
    },
    {
     "data": {
      "application/vnd.jupyter.widget-view+json": {
       "model_id": "bd888e0f38d245159598c79485cb4731",
       "version_major": 2,
       "version_minor": 0
      },
      "text/plain": [
       "HBox(children=(FloatProgress(value=0.0, max=23.0), HTML(value='')))"
      ]
     },
     "metadata": {},
     "output_type": "display_data"
    },
    {
     "name": "stdout",
     "output_type": "stream",
     "text": [
      "\n",
      "0.8494623655913979 0.8260869565217388\n"
     ]
    },
    {
     "data": {
      "application/vnd.jupyter.widget-view+json": {
       "model_id": "afa117eec9c54563a46351b41992a4b6",
       "version_major": 2,
       "version_minor": 0
      },
      "text/plain": [
       "HBox(children=(FloatProgress(value=0.0, max=6.0), HTML(value='')))"
      ]
     },
     "metadata": {},
     "output_type": "display_data"
    },
    {
     "name": "stdout",
     "output_type": "stream",
     "text": [
      "\n"
     ]
    },
    {
     "data": {
      "application/vnd.jupyter.widget-view+json": {
       "model_id": "6a49c65b2a8a439eb836eb2735e2313c",
       "version_major": 2,
       "version_minor": 0
      },
      "text/plain": [
       "HBox(children=(FloatProgress(value=0.0, max=23.0), HTML(value='')))"
      ]
     },
     "metadata": {},
     "output_type": "display_data"
    },
    {
     "name": "stdout",
     "output_type": "stream",
     "text": [
      "\n",
      "0.8817204301075268 0.8260869565217388\n"
     ]
    },
    {
     "data": {
      "application/vnd.jupyter.widget-view+json": {
       "model_id": "ec2243a99ef845ac9a0bf26febd4bf29",
       "version_major": 2,
       "version_minor": 0
      },
      "text/plain": [
       "HBox(children=(FloatProgress(value=0.0, max=6.0), HTML(value='')))"
      ]
     },
     "metadata": {},
     "output_type": "display_data"
    },
    {
     "name": "stdout",
     "output_type": "stream",
     "text": [
      "\n"
     ]
    },
    {
     "data": {
      "application/vnd.jupyter.widget-view+json": {
       "model_id": "bf148740bb3f442585a16152350ddc42",
       "version_major": 2,
       "version_minor": 0
      },
      "text/plain": [
       "HBox(children=(FloatProgress(value=0.0, max=23.0), HTML(value='')))"
      ]
     },
     "metadata": {},
     "output_type": "display_data"
    },
    {
     "name": "stdout",
     "output_type": "stream",
     "text": [
      "\n",
      "0.8279569892473118 0.8260869565217388\n"
     ]
    },
    {
     "data": {
      "application/vnd.jupyter.widget-view+json": {
       "model_id": "c3bbc125cba24bf8a8170dbce19acd6e",
       "version_major": 2,
       "version_minor": 0
      },
      "text/plain": [
       "HBox(children=(FloatProgress(value=0.0, max=6.0), HTML(value='')))"
      ]
     },
     "metadata": {},
     "output_type": "display_data"
    },
    {
     "name": "stdout",
     "output_type": "stream",
     "text": [
      "\n"
     ]
    },
    {
     "data": {
      "application/vnd.jupyter.widget-view+json": {
       "model_id": "df80ee90eb2e444bb21ad6fa5f423415",
       "version_major": 2,
       "version_minor": 0
      },
      "text/plain": [
       "HBox(children=(FloatProgress(value=0.0, max=23.0), HTML(value='')))"
      ]
     },
     "metadata": {},
     "output_type": "display_data"
    },
    {
     "name": "stdout",
     "output_type": "stream",
     "text": [
      "\n",
      "0.8709677419354839 0.9130434782608692\n"
     ]
    },
    {
     "data": {
      "application/vnd.jupyter.widget-view+json": {
       "model_id": "8db269bf675b49f8bfb584e50fc9393b",
       "version_major": 2,
       "version_minor": 0
      },
      "text/plain": [
       "HBox(children=(FloatProgress(value=0.0, max=6.0), HTML(value='')))"
      ]
     },
     "metadata": {},
     "output_type": "display_data"
    },
    {
     "name": "stdout",
     "output_type": "stream",
     "text": [
      "\n"
     ]
    },
    {
     "data": {
      "application/vnd.jupyter.widget-view+json": {
       "model_id": "de3fb81fc877424fb3ae94da4996da1a",
       "version_major": 2,
       "version_minor": 0
      },
      "text/plain": [
       "HBox(children=(FloatProgress(value=0.0, max=23.0), HTML(value='')))"
      ]
     },
     "metadata": {},
     "output_type": "display_data"
    },
    {
     "name": "stdout",
     "output_type": "stream",
     "text": [
      "\n",
      "0.9354838709677419 0.8260869565217388\n"
     ]
    },
    {
     "data": {
      "application/vnd.jupyter.widget-view+json": {
       "model_id": "0227f1336e9c4655a3e8b8588e851a74",
       "version_major": 2,
       "version_minor": 0
      },
      "text/plain": [
       "HBox(children=(FloatProgress(value=0.0, max=6.0), HTML(value='')))"
      ]
     },
     "metadata": {},
     "output_type": "display_data"
    },
    {
     "name": "stdout",
     "output_type": "stream",
     "text": [
      "\n"
     ]
    },
    {
     "data": {
      "application/vnd.jupyter.widget-view+json": {
       "model_id": "6faeddb241c14c7588fc8fae3a062ecd",
       "version_major": 2,
       "version_minor": 0
      },
      "text/plain": [
       "HBox(children=(FloatProgress(value=0.0, max=23.0), HTML(value='')))"
      ]
     },
     "metadata": {},
     "output_type": "display_data"
    },
    {
     "name": "stdout",
     "output_type": "stream",
     "text": [
      "\n",
      "0.8602150537634408 0.7391304347826084\n"
     ]
    },
    {
     "data": {
      "application/vnd.jupyter.widget-view+json": {
       "model_id": "ec38e1e761054e0aa97d9fc5e90aea34",
       "version_major": 2,
       "version_minor": 0
      },
      "text/plain": [
       "HBox(children=(FloatProgress(value=0.0, max=6.0), HTML(value='')))"
      ]
     },
     "metadata": {},
     "output_type": "display_data"
    },
    {
     "name": "stdout",
     "output_type": "stream",
     "text": [
      "\n"
     ]
    },
    {
     "data": {
      "application/vnd.jupyter.widget-view+json": {
       "model_id": "b0df1b89d07f4283b8e8adfa050e1ba7",
       "version_major": 2,
       "version_minor": 0
      },
      "text/plain": [
       "HBox(children=(FloatProgress(value=0.0, max=23.0), HTML(value='')))"
      ]
     },
     "metadata": {},
     "output_type": "display_data"
    },
    {
     "name": "stdout",
     "output_type": "stream",
     "text": [
      "\n",
      "0.9784946236559139 0.7391304347826084\n"
     ]
    },
    {
     "data": {
      "application/vnd.jupyter.widget-view+json": {
       "model_id": "6bccd8a0543345398dcbbd90c0cdf44b",
       "version_major": 2,
       "version_minor": 0
      },
      "text/plain": [
       "HBox(children=(FloatProgress(value=0.0, max=6.0), HTML(value='')))"
      ]
     },
     "metadata": {},
     "output_type": "display_data"
    },
    {
     "name": "stdout",
     "output_type": "stream",
     "text": [
      "\n"
     ]
    },
    {
     "data": {
      "application/vnd.jupyter.widget-view+json": {
       "model_id": "9210ac5d7d934334bd23f6f4df935830",
       "version_major": 2,
       "version_minor": 0
      },
      "text/plain": [
       "HBox(children=(FloatProgress(value=0.0, max=23.0), HTML(value='')))"
      ]
     },
     "metadata": {},
     "output_type": "display_data"
    },
    {
     "name": "stdout",
     "output_type": "stream",
     "text": [
      "\n",
      "0.9462365591397851 0.6956521739130432\n",
      "\n"
     ]
    }
   ],
   "source": [
    "##################################start training and validating#####################################################\n",
    "max_epoch = 23\n",
    "tmp_path = './models/temp.pth'\n",
    "\n",
    "for epoch in tqdm(range(max_epoch)):        \n",
    "    ###Train Phase\n",
    "    \n",
    "    # Initialize Loss and Accuracy\n",
    "    train_loss = 0.0\n",
    "    train_accu = 0.0\n",
    "\n",
    "    #########TEMPORARY################################\n",
    "    # Load the saved MODEL AND OPTIMIZER after evaluation.\n",
    "    if epoch > 0:\n",
    "        checkpoint = torch.load(tmp_path)\n",
    "        model.load_state_dict(checkpoint['model_state_dict'])\n",
    "        optimizer.load_state_dict(checkpoint['optimizer_state_dict'])\n",
    "       \n",
    "    ##################################################\n",
    "\n",
    "    # Iterate over the train_dataloader\n",
    "    with tqdm(total=len(train_dl)) as pbar:\n",
    "        for sample in train_dl:            \n",
    "            curr_loss, num_correct = train(model, optimizer, sample)\n",
    "            train_loss += curr_loss / len(train_dl) \n",
    "            train_accu += num_correct / len(train_set)\n",
    "            pbar.update(1)\n",
    "            \n",
    "    ### Write the current loss and accuracy to the Tensorboard\n",
    "    with train_summary_writer.as_default():\n",
    "        tf.summary.scalar('loss', train_loss, step=epoch)                \n",
    "        tf.summary.scalar('accuracy', train_accu, step=epoch)         \n",
    "         \n",
    "    ###############TEMPORARY#######################################\n",
    "    # save the model and optimizer's information before the evaulation\n",
    "    checkpoint = {\n",
    "        'model_state_dict': model.state_dict(),\n",
    "        'optimizer_state_dict': optimizer.state_dict(),\n",
    "        \n",
    "    }\n",
    "    torch.save(checkpoint, tmp_path)\n",
    "    ###################################################################\n",
    "    \n",
    "    ### Validate Phase\n",
    "    # Initialize Loss and Accuracy\n",
    "    test_loss = 0.0\n",
    "    test_accu = 0.0\n",
    "\n",
    "    # Iterate over the test_dataloader\n",
    "    with tqdm(total=len(test_dl)) as pbar:\n",
    "        for idx, sample in enumerate(test_dl): \n",
    "            curr_loss, num_correct = test(model, sample)\n",
    "            test_loss += curr_loss / len(test_dl)\n",
    "            test_accu += num_correct / len(test_set)\n",
    "            pbar.update(1)\n",
    "    \n",
    "    ### Write the current loss and accuracy to the Tensorboard\n",
    "    with test_summary_writer.as_default():\n",
    "        tf.summary.scalar('loss', test_loss, step=epoch)\n",
    "        tf.summary.scalar('accuracy', test_accu, step=epoch)    \n",
    "    \n",
    "        \n",
    "    print(train_accu, test_accu)  \n",
    "    \n",
    "os.remove(tmp_path)    "
   ]
  },
  {
   "cell_type": "code",
   "execution_count": 14,
   "metadata": {},
   "outputs": [],
   "source": [
    "def freq_domain(sample,sr):\n",
    "    L=sample.shape[0]\n",
    "    Y=np.fft.fft(sample,sr)\n",
    "    P2 = abs(Y/L)\n",
    "    P1 = P2[0:sr//2+1]\n",
    "    P1[1:-1] = 2*P1[1:-1]\n",
    "    return P1    "
   ]
  },
  {
   "cell_type": "code",
   "execution_count": 15,
   "metadata": {},
   "outputs": [],
   "source": [
    "Y_pos=Y_neg=p=n=0\n",
    "\n",
    "for j in os.listdir(wav_path):\n",
    "    y,sr=librosa.load(wav_path+j)\n",
    "    L=y.shape[0]\n",
    "    if j[0]=='p':\n",
    "        Y_pos+=freq_domain(y,sr)\n",
    "        p+=1\n",
    "    else:\n",
    "        Y_neg+=freq_domain(y,sr)\n",
    "        n+=1\n",
    "Y_pos/=p\n",
    "Y_neg/=n"
   ]
  },
  {
   "cell_type": "code",
   "execution_count": 16,
   "metadata": {},
   "outputs": [
    {
     "data": {
      "text/plain": [
       "<matplotlib.legend.Legend at 0x7f265dc5c210>"
      ]
     },
     "execution_count": 16,
     "metadata": {},
     "output_type": "execute_result"
    },
    {
     "data": {
      "image/png": "[encoded data removed]",
      "text/plain": [
       "<Figure size 432x288 with 1 Axes>"
      ]
     },
     "metadata": {
      "needs_background": "light"
     },
     "output_type": "display_data"
    }
   ],
   "source": [
    "plt.title('Cough Samples in Frequency Domain')\n",
    "plt.xlabel('Frequency [Hz]')\n",
    "plt.ylabel('Magnitude')\n",
    "plt.plot(Y_pos[0:2000],label='Positive')\n",
    "plt.plot(Y_neg[0:2000],label='Negative')\n",
    "plt.legend()"
   ]
  },
  {
   "cell_type": "code",
   "execution_count": 17,
   "metadata": {},
   "outputs": [],
   "source": [
    "f1=450\n",
    "f2=550"
   ]
  },
  {
   "cell_type": "code",
   "execution_count": 18,
   "metadata": {},
   "outputs": [],
   "source": [
    "class fft():\n",
    "    \n",
    "    def __init__(self, path):\n",
    "        self.path = path\n",
    "        \n",
    "    def __len__(self):\n",
    "        return len(os.listdir(self.path))\n",
    "\n",
    "    def __getitem__(self, idx):\n",
    "        \n",
    "        y,sr=librosa.load(self.path+os.listdir(self.path)[idx])\n",
    "        \n",
    "        y_freq=freq_domain(y,sr)\n",
    "        Y=y_freq[f1:f2]\n",
    "        #Y=torch.tensor(Y).unsqueeze(1).permute(1,0).float()\n",
    " \n",
    "        data=dict()\n",
    "        data['sgram']=Y\n",
    "        \n",
    "        if os.listdir(self.path)[idx][0]=='p':\n",
    "            data['class']= \"positive\"\n",
    "            data['label']= 1\n",
    "        else:    \n",
    "            data['class']= \"negative\"\n",
    "            data['label']= 0  \n",
    "            \n",
    "        return data"
   ]
  },
  {
   "cell_type": "code",
   "execution_count": 19,
   "metadata": {},
   "outputs": [
    {
     "name": "stdout",
     "output_type": "stream",
     "text": [
      "env: CUBLAS_WORKSPACE_CONFIG=:16:8\n"
     ]
    }
   ],
   "source": [
    "%env CUBLAS_WORKSPACE_CONFIG=:16:8\n",
    "torch.backends.cudnn.deterministic = True\n",
    "torch.set_deterministic(True)\n",
    "torch.manual_seed(19)\n",
    "torch.cuda.manual_seed(19)\n",
    "np.random.seed(19)"
   ]
  },
  {
   "cell_type": "code",
   "execution_count": 20,
   "metadata": {},
   "outputs": [
    {
     "name": "stdout",
     "output_type": "stream",
     "text": [
      "93 + 23 = 116\n"
     ]
    }
   ],
   "source": [
    "#prepare dataset\n",
    "fft_dataset= fft(wav_path)\n",
    "fft_L=len(fft_dataset)\n",
    "\n",
    "#split in train, test, validation\n",
    "fft_train_set, fft_test_set = \\\n",
    "torch.utils.data.random_split(fft_dataset,[math.ceil(fft_L*0.8),int(fft_L*0.2)])\n",
    "\n",
    "print(len(fft_train_set),'+', len(fft_test_set),'=',fft_L)\n",
    "\n",
    "#dataloader\n",
    "batch_size=16\n",
    "\n",
    "fft_dataset_dl=DataLoader(fft_dataset, batch_size=batch_size, shuffle=True)\n",
    "fft_train_dl = DataLoader(fft_train_set, batch_size=batch_size, shuffle=True)\n",
    "fft_test_dl = DataLoader(fft_test_set, batch_size=1, shuffle=False)\n"
   ]
  },
  {
   "cell_type": "code",
   "execution_count": 21,
   "metadata": {},
   "outputs": [
    {
     "name": "stdout",
     "output_type": "stream",
     "text": [
      "torch.Size([16, 100])\n",
      "tensor([1, 1, 1, 0, 1, 1, 0, 0, 1, 1, 0, 1, 0, 0, 0, 1])\n"
     ]
    }
   ],
   "source": [
    "#view the dataloader\n",
    "fft_sample=next(iter(fft_train_dl))\n",
    "print(fft_sample['sgram'].shape) # batch_size, channels, height, width\n",
    "print(fft_sample['label'])# 1 or 0"
   ]
  },
  {
   "cell_type": "code",
   "execution_count": 22,
   "metadata": {},
   "outputs": [],
   "source": [
    "#logistic regression\n",
    "class Model2(nn.Module):\n",
    "    def __init__(self, L=f2-f1, dim_output=2):\n",
    "        super(Model2, self).__init__()\n",
    "        self.dim_output=dim_output\n",
    "        self.L=L\n",
    "\n",
    "        #fully connected\n",
    "        self.layer = nn.Linear(self.L, self.dim_output)\n",
    "        \n",
    "    def forward(self, img):\n",
    "        \n",
    "        out=self.layer(img)\n",
    "        return out            "
   ]
  },
  {
   "cell_type": "code",
   "execution_count": 23,
   "metadata": {},
   "outputs": [],
   "source": [
    "#model and optimizer\n",
    "model2 = Model2()\n",
    "model2 = model2.to(device) \n",
    "\n",
    "optimizer2 = optim.Adam(model2.parameters(), lr=0.1, weight_decay=1e-6)\n",
    "\n",
    "#print(model)\n",
    "#sample_out=model2(fft_sample['sgram'].to(device)) \n",
    "#sample_out.shape"
   ]
  },
  {
   "cell_type": "code",
   "execution_count": 24,
   "metadata": {},
   "outputs": [],
   "source": [
    "#prepare tensorboard\n",
    "train_log_dir = './models/runs_log/train'\n",
    "train_summary_writer = summary.create_file_writer(train_log_dir)\n",
    "test_log_dir = './models/runs_log/test'\n",
    "test_summary_writer = summary.create_file_writer(test_log_dir)"
   ]
  },
  {
   "cell_type": "code",
   "execution_count": 25,
   "metadata": {},
   "outputs": [
    {
     "data": {
      "application/vnd.jupyter.widget-view+json": {
       "model_id": "efedf88f165b468f88a9b4d583c3e7f4",
       "version_major": 2,
       "version_minor": 0
      },
      "text/plain": [
       "HBox(children=(FloatProgress(value=0.0, max=23.0), HTML(value='')))"
      ]
     },
     "metadata": {},
     "output_type": "display_data"
    },
    {
     "data": {
      "application/vnd.jupyter.widget-view+json": {
       "model_id": "b4825b41d372455e9c78b5a12080c11d",
       "version_major": 2,
       "version_minor": 0
      },
      "text/plain": [
       "HBox(children=(FloatProgress(value=0.0, max=6.0), HTML(value='')))"
      ]
     },
     "metadata": {},
     "output_type": "display_data"
    },
    {
     "name": "stdout",
     "output_type": "stream",
     "text": [
      "\n"
     ]
    },
    {
     "data": {
      "application/vnd.jupyter.widget-view+json": {
       "model_id": "c801004c65d8408990c433c526ecfb5d",
       "version_major": 2,
       "version_minor": 0
      },
      "text/plain": [
       "HBox(children=(FloatProgress(value=0.0, max=23.0), HTML(value='')))"
      ]
     },
     "metadata": {},
     "output_type": "display_data"
    },
    {
     "name": "stdout",
     "output_type": "stream",
     "text": [
      "\n",
      "0.6129032258064516 0.6956521739130432\n"
     ]
    },
    {
     "data": {
      "application/vnd.jupyter.widget-view+json": {
       "model_id": "79930f74824641f7811bc973b8304256",
       "version_major": 2,
       "version_minor": 0
      },
      "text/plain": [
       "HBox(children=(FloatProgress(value=0.0, max=6.0), HTML(value='')))"
      ]
     },
     "metadata": {},
     "output_type": "display_data"
    },
    {
     "name": "stdout",
     "output_type": "stream",
     "text": [
      "\n"
     ]
    },
    {
     "data": {
      "application/vnd.jupyter.widget-view+json": {
       "model_id": "7e87845056254cba9b0517d8770d0f1c",
       "version_major": 2,
       "version_minor": 0
      },
      "text/plain": [
       "HBox(children=(FloatProgress(value=0.0, max=23.0), HTML(value='')))"
      ]
     },
     "metadata": {},
     "output_type": "display_data"
    },
    {
     "name": "stdout",
     "output_type": "stream",
     "text": [
      "\n",
      "0.6236559139784946 0.8260869565217388\n"
     ]
    },
    {
     "data": {
      "application/vnd.jupyter.widget-view+json": {
       "model_id": "74e664b115bb455eb668b11169e1a75e",
       "version_major": 2,
       "version_minor": 0
      },
      "text/plain": [
       "HBox(children=(FloatProgress(value=0.0, max=6.0), HTML(value='')))"
      ]
     },
     "metadata": {},
     "output_type": "display_data"
    },
    {
     "name": "stdout",
     "output_type": "stream",
     "text": [
      "\n"
     ]
    },
    {
     "data": {
      "application/vnd.jupyter.widget-view+json": {
       "model_id": "8458407625f746cbace6484e9f1c6220",
       "version_major": 2,
       "version_minor": 0
      },
      "text/plain": [
       "HBox(children=(FloatProgress(value=0.0, max=23.0), HTML(value='')))"
      ]
     },
     "metadata": {},
     "output_type": "display_data"
    },
    {
     "name": "stdout",
     "output_type": "stream",
     "text": [
      "\n",
      "0.7526881720430108 0.869565217391304\n"
     ]
    },
    {
     "data": {
      "application/vnd.jupyter.widget-view+json": {
       "model_id": "b982b1c6c1874aef81fd4afdff6ed027",
       "version_major": 2,
       "version_minor": 0
      },
      "text/plain": [
       "HBox(children=(FloatProgress(value=0.0, max=6.0), HTML(value='')))"
      ]
     },
     "metadata": {},
     "output_type": "display_data"
    },
    {
     "name": "stdout",
     "output_type": "stream",
     "text": [
      "\n"
     ]
    },
    {
     "data": {
      "application/vnd.jupyter.widget-view+json": {
       "model_id": "321e96fc9cb44dd68dd8d199998c9fdf",
       "version_major": 2,
       "version_minor": 0
      },
      "text/plain": [
       "HBox(children=(FloatProgress(value=0.0, max=23.0), HTML(value='')))"
      ]
     },
     "metadata": {},
     "output_type": "display_data"
    },
    {
     "name": "stdout",
     "output_type": "stream",
     "text": [
      "\n",
      "0.7311827956989247 0.9130434782608692\n"
     ]
    },
    {
     "data": {
      "application/vnd.jupyter.widget-view+json": {
       "model_id": "b6c63caf41a74dd0881c46e6fec34e40",
       "version_major": 2,
       "version_minor": 0
      },
      "text/plain": [
       "HBox(children=(FloatProgress(value=0.0, max=6.0), HTML(value='')))"
      ]
     },
     "metadata": {},
     "output_type": "display_data"
    },
    {
     "name": "stdout",
     "output_type": "stream",
     "text": [
      "\n"
     ]
    },
    {
     "data": {
      "application/vnd.jupyter.widget-view+json": {
       "model_id": "4744a0191f0c43058fdb264af177a770",
       "version_major": 2,
       "version_minor": 0
      },
      "text/plain": [
       "HBox(children=(FloatProgress(value=0.0, max=23.0), HTML(value='')))"
      ]
     },
     "metadata": {},
     "output_type": "display_data"
    },
    {
     "name": "stdout",
     "output_type": "stream",
     "text": [
      "\n",
      "0.7526881720430108 0.869565217391304\n"
     ]
    },
    {
     "data": {
      "application/vnd.jupyter.widget-view+json": {
       "model_id": "a6b31f791b324bb8a3a4e61dbcd7593e",
       "version_major": 2,
       "version_minor": 0
      },
      "text/plain": [
       "HBox(children=(FloatProgress(value=0.0, max=6.0), HTML(value='')))"
      ]
     },
     "metadata": {},
     "output_type": "display_data"
    },
    {
     "name": "stdout",
     "output_type": "stream",
     "text": [
      "\n"
     ]
    },
    {
     "data": {
      "application/vnd.jupyter.widget-view+json": {
       "model_id": "845a6b0607f149ce8004a3065ea1a6a9",
       "version_major": 2,
       "version_minor": 0
      },
      "text/plain": [
       "HBox(children=(FloatProgress(value=0.0, max=23.0), HTML(value='')))"
      ]
     },
     "metadata": {},
     "output_type": "display_data"
    },
    {
     "name": "stdout",
     "output_type": "stream",
     "text": [
      "\n",
      "0.7526881720430108 0.869565217391304\n"
     ]
    },
    {
     "data": {
      "application/vnd.jupyter.widget-view+json": {
       "model_id": "1f9e562750f34218a33c6a37602d5c08",
       "version_major": 2,
       "version_minor": 0
      },
      "text/plain": [
       "HBox(children=(FloatProgress(value=0.0, max=6.0), HTML(value='')))"
      ]
     },
     "metadata": {},
     "output_type": "display_data"
    },
    {
     "name": "stdout",
     "output_type": "stream",
     "text": [
      "\n"
     ]
    },
    {
     "data": {
      "application/vnd.jupyter.widget-view+json": {
       "model_id": "ef65faf0bfd44b84a8d0f14f11a8819f",
       "version_major": 2,
       "version_minor": 0
      },
      "text/plain": [
       "HBox(children=(FloatProgress(value=0.0, max=23.0), HTML(value='')))"
      ]
     },
     "metadata": {},
     "output_type": "display_data"
    },
    {
     "name": "stdout",
     "output_type": "stream",
     "text": [
      "\n",
      "0.7634408602150538 0.9130434782608692\n"
     ]
    },
    {
     "data": {
      "application/vnd.jupyter.widget-view+json": {
       "model_id": "0619fd5a6f1749759bdfdf3402f06409",
       "version_major": 2,
       "version_minor": 0
      },
      "text/plain": [
       "HBox(children=(FloatProgress(value=0.0, max=6.0), HTML(value='')))"
      ]
     },
     "metadata": {},
     "output_type": "display_data"
    },
    {
     "name": "stdout",
     "output_type": "stream",
     "text": [
      "\n"
     ]
    },
    {
     "data": {
      "application/vnd.jupyter.widget-view+json": {
       "model_id": "4de6e02c67a24d049465f86c3d28540b",
       "version_major": 2,
       "version_minor": 0
      },
      "text/plain": [
       "HBox(children=(FloatProgress(value=0.0, max=23.0), HTML(value='')))"
      ]
     },
     "metadata": {},
     "output_type": "display_data"
    },
    {
     "name": "stdout",
     "output_type": "stream",
     "text": [
      "\n",
      "0.7204301075268817 0.9565217391304344\n"
     ]
    },
    {
     "data": {
      "application/vnd.jupyter.widget-view+json": {
       "model_id": "db31fd86f6344d1587110738685f5594",
       "version_major": 2,
       "version_minor": 0
      },
      "text/plain": [
       "HBox(children=(FloatProgress(value=0.0, max=6.0), HTML(value='')))"
      ]
     },
     "metadata": {},
     "output_type": "display_data"
    },
    {
     "name": "stdout",
     "output_type": "stream",
     "text": [
      "\n"
     ]
    },
    {
     "data": {
      "application/vnd.jupyter.widget-view+json": {
       "model_id": "b623d4f575304fabbd00932bf9fe9266",
       "version_major": 2,
       "version_minor": 0
      },
      "text/plain": [
       "HBox(children=(FloatProgress(value=0.0, max=23.0), HTML(value='')))"
      ]
     },
     "metadata": {},
     "output_type": "display_data"
    },
    {
     "name": "stdout",
     "output_type": "stream",
     "text": [
      "\n",
      "0.7204301075268817 0.9565217391304344\n"
     ]
    },
    {
     "data": {
      "application/vnd.jupyter.widget-view+json": {
       "model_id": "397b7d52916f4c13ae3ea37d22af6b84",
       "version_major": 2,
       "version_minor": 0
      },
      "text/plain": [
       "HBox(children=(FloatProgress(value=0.0, max=6.0), HTML(value='')))"
      ]
     },
     "metadata": {},
     "output_type": "display_data"
    },
    {
     "name": "stdout",
     "output_type": "stream",
     "text": [
      "\n"
     ]
    },
    {
     "data": {
      "application/vnd.jupyter.widget-view+json": {
       "model_id": "74de6a57a4d242ada685b6ad272b364e",
       "version_major": 2,
       "version_minor": 0
      },
      "text/plain": [
       "HBox(children=(FloatProgress(value=0.0, max=23.0), HTML(value='')))"
      ]
     },
     "metadata": {},
     "output_type": "display_data"
    },
    {
     "name": "stdout",
     "output_type": "stream",
     "text": [
      "\n",
      "0.7204301075268817 0.9130434782608692\n"
     ]
    },
    {
     "data": {
      "application/vnd.jupyter.widget-view+json": {
       "model_id": "de85eee0c0d641c9ae455c4c124f14ea",
       "version_major": 2,
       "version_minor": 0
      },
      "text/plain": [
       "HBox(children=(FloatProgress(value=0.0, max=6.0), HTML(value='')))"
      ]
     },
     "metadata": {},
     "output_type": "display_data"
    },
    {
     "name": "stdout",
     "output_type": "stream",
     "text": [
      "\n"
     ]
    },
    {
     "data": {
      "application/vnd.jupyter.widget-view+json": {
       "model_id": "832784a3830945d4b3a32c907e58285c",
       "version_major": 2,
       "version_minor": 0
      },
      "text/plain": [
       "HBox(children=(FloatProgress(value=0.0, max=23.0), HTML(value='')))"
      ]
     },
     "metadata": {},
     "output_type": "display_data"
    },
    {
     "name": "stdout",
     "output_type": "stream",
     "text": [
      "\n",
      "0.7311827956989247 0.9565217391304344\n"
     ]
    },
    {
     "data": {
      "application/vnd.jupyter.widget-view+json": {
       "model_id": "9d200f50bee94f9db0aab1f2789115f6",
       "version_major": 2,
       "version_minor": 0
      },
      "text/plain": [
       "HBox(children=(FloatProgress(value=0.0, max=6.0), HTML(value='')))"
      ]
     },
     "metadata": {},
     "output_type": "display_data"
    },
    {
     "name": "stdout",
     "output_type": "stream",
     "text": [
      "\n"
     ]
    },
    {
     "data": {
      "application/vnd.jupyter.widget-view+json": {
       "model_id": "5b11605a2ed24f77b164bc8e12458638",
       "version_major": 2,
       "version_minor": 0
      },
      "text/plain": [
       "HBox(children=(FloatProgress(value=0.0, max=23.0), HTML(value='')))"
      ]
     },
     "metadata": {},
     "output_type": "display_data"
    },
    {
     "name": "stdout",
     "output_type": "stream",
     "text": [
      "\n",
      "0.7311827956989247 0.9565217391304344\n"
     ]
    },
    {
     "data": {
      "application/vnd.jupyter.widget-view+json": {
       "model_id": "f95cdeeaa19744e78746b85a9adcae5d",
       "version_major": 2,
       "version_minor": 0
      },
      "text/plain": [
       "HBox(children=(FloatProgress(value=0.0, max=6.0), HTML(value='')))"
      ]
     },
     "metadata": {},
     "output_type": "display_data"
    },
    {
     "name": "stdout",
     "output_type": "stream",
     "text": [
      "\n"
     ]
    },
    {
     "data": {
      "application/vnd.jupyter.widget-view+json": {
       "model_id": "3d53ec05790a4c0485fc224f9402d637",
       "version_major": 2,
       "version_minor": 0
      },
      "text/plain": [
       "HBox(children=(FloatProgress(value=0.0, max=23.0), HTML(value='')))"
      ]
     },
     "metadata": {},
     "output_type": "display_data"
    },
    {
     "name": "stdout",
     "output_type": "stream",
     "text": [
      "\n",
      "0.7096774193548387 0.9130434782608692\n"
     ]
    },
    {
     "data": {
      "application/vnd.jupyter.widget-view+json": {
       "model_id": "b81e581fb4fb440da303567faca313b3",
       "version_major": 2,
       "version_minor": 0
      },
      "text/plain": [
       "HBox(children=(FloatProgress(value=0.0, max=6.0), HTML(value='')))"
      ]
     },
     "metadata": {},
     "output_type": "display_data"
    },
    {
     "name": "stdout",
     "output_type": "stream",
     "text": [
      "\n"
     ]
    },
    {
     "data": {
      "application/vnd.jupyter.widget-view+json": {
       "model_id": "8f7e6e56d6a64a4e87f1b8e127b70508",
       "version_major": 2,
       "version_minor": 0
      },
      "text/plain": [
       "HBox(children=(FloatProgress(value=0.0, max=23.0), HTML(value='')))"
      ]
     },
     "metadata": {},
     "output_type": "display_data"
    },
    {
     "name": "stdout",
     "output_type": "stream",
     "text": [
      "\n",
      "0.7204301075268817 0.9565217391304344\n"
     ]
    },
    {
     "data": {
      "application/vnd.jupyter.widget-view+json": {
       "model_id": "8db6c6e82c1c411daf5245106b64c774",
       "version_major": 2,
       "version_minor": 0
      },
      "text/plain": [
       "HBox(children=(FloatProgress(value=0.0, max=6.0), HTML(value='')))"
      ]
     },
     "metadata": {},
     "output_type": "display_data"
    },
    {
     "name": "stdout",
     "output_type": "stream",
     "text": [
      "\n"
     ]
    },
    {
     "data": {
      "application/vnd.jupyter.widget-view+json": {
       "model_id": "146099240f3c41f19f6fcc5f67bd3908",
       "version_major": 2,
       "version_minor": 0
      },
      "text/plain": [
       "HBox(children=(FloatProgress(value=0.0, max=23.0), HTML(value='')))"
      ]
     },
     "metadata": {},
     "output_type": "display_data"
    },
    {
     "name": "stdout",
     "output_type": "stream",
     "text": [
      "\n",
      "0.7311827956989247 0.9565217391304344\n"
     ]
    },
    {
     "data": {
      "application/vnd.jupyter.widget-view+json": {
       "model_id": "625f7c7a71274b88a359fdcf1820fee2",
       "version_major": 2,
       "version_minor": 0
      },
      "text/plain": [
       "HBox(children=(FloatProgress(value=0.0, max=6.0), HTML(value='')))"
      ]
     },
     "metadata": {},
     "output_type": "display_data"
    },
    {
     "name": "stdout",
     "output_type": "stream",
     "text": [
      "\n"
     ]
    },
    {
     "data": {
      "application/vnd.jupyter.widget-view+json": {
       "model_id": "d63fb9f7a03344b69f786d1c05723a29",
       "version_major": 2,
       "version_minor": 0
      },
      "text/plain": [
       "HBox(children=(FloatProgress(value=0.0, max=23.0), HTML(value='')))"
      ]
     },
     "metadata": {},
     "output_type": "display_data"
    },
    {
     "name": "stdout",
     "output_type": "stream",
     "text": [
      "\n",
      "0.7204301075268816 0.9130434782608692\n"
     ]
    },
    {
     "data": {
      "application/vnd.jupyter.widget-view+json": {
       "model_id": "afeab60b2368420b9903a6e01caff14d",
       "version_major": 2,
       "version_minor": 0
      },
      "text/plain": [
       "HBox(children=(FloatProgress(value=0.0, max=6.0), HTML(value='')))"
      ]
     },
     "metadata": {},
     "output_type": "display_data"
    },
    {
     "name": "stdout",
     "output_type": "stream",
     "text": [
      "\n"
     ]
    },
    {
     "data": {
      "application/vnd.jupyter.widget-view+json": {
       "model_id": "2eb207d98829425fabb484868cb0b0a6",
       "version_major": 2,
       "version_minor": 0
      },
      "text/plain": [
       "HBox(children=(FloatProgress(value=0.0, max=23.0), HTML(value='')))"
      ]
     },
     "metadata": {},
     "output_type": "display_data"
    },
    {
     "name": "stdout",
     "output_type": "stream",
     "text": [
      "\n",
      "0.7204301075268817 0.9565217391304344\n"
     ]
    },
    {
     "data": {
      "application/vnd.jupyter.widget-view+json": {
       "model_id": "582e9f96a87944f8bdecbf0cf63feb7e",
       "version_major": 2,
       "version_minor": 0
      },
      "text/plain": [
       "HBox(children=(FloatProgress(value=0.0, max=6.0), HTML(value='')))"
      ]
     },
     "metadata": {},
     "output_type": "display_data"
    },
    {
     "name": "stdout",
     "output_type": "stream",
     "text": [
      "\n"
     ]
    },
    {
     "data": {
      "application/vnd.jupyter.widget-view+json": {
       "model_id": "cd34628ecc504b8f979899fadb58c06d",
       "version_major": 2,
       "version_minor": 0
      },
      "text/plain": [
       "HBox(children=(FloatProgress(value=0.0, max=23.0), HTML(value='')))"
      ]
     },
     "metadata": {},
     "output_type": "display_data"
    },
    {
     "name": "stdout",
     "output_type": "stream",
     "text": [
      "\n",
      "0.7311827956989247 0.9130434782608692\n"
     ]
    },
    {
     "data": {
      "application/vnd.jupyter.widget-view+json": {
       "model_id": "53303d7ba5f241b0bfb38b34d417f705",
       "version_major": 2,
       "version_minor": 0
      },
      "text/plain": [
       "HBox(children=(FloatProgress(value=0.0, max=6.0), HTML(value='')))"
      ]
     },
     "metadata": {},
     "output_type": "display_data"
    },
    {
     "name": "stdout",
     "output_type": "stream",
     "text": [
      "\n"
     ]
    },
    {
     "data": {
      "application/vnd.jupyter.widget-view+json": {
       "model_id": "9022ba42c28c44b4a9a09b1834d09e18",
       "version_major": 2,
       "version_minor": 0
      },
      "text/plain": [
       "HBox(children=(FloatProgress(value=0.0, max=23.0), HTML(value='')))"
      ]
     },
     "metadata": {},
     "output_type": "display_data"
    },
    {
     "name": "stdout",
     "output_type": "stream",
     "text": [
      "\n",
      "0.7204301075268817 0.9130434782608692\n"
     ]
    },
    {
     "data": {
      "application/vnd.jupyter.widget-view+json": {
       "model_id": "46b595a7535d4f1a8e3f866c863468a5",
       "version_major": 2,
       "version_minor": 0
      },
      "text/plain": [
       "HBox(children=(FloatProgress(value=0.0, max=6.0), HTML(value='')))"
      ]
     },
     "metadata": {},
     "output_type": "display_data"
    },
    {
     "name": "stdout",
     "output_type": "stream",
     "text": [
      "\n"
     ]
    },
    {
     "data": {
      "application/vnd.jupyter.widget-view+json": {
       "model_id": "51cf5dd7b4064e70a96a3228b4ad1fe8",
       "version_major": 2,
       "version_minor": 0
      },
      "text/plain": [
       "HBox(children=(FloatProgress(value=0.0, max=23.0), HTML(value='')))"
      ]
     },
     "metadata": {},
     "output_type": "display_data"
    },
    {
     "name": "stdout",
     "output_type": "stream",
     "text": [
      "\n",
      "0.7311827956989247 0.9130434782608692\n"
     ]
    },
    {
     "data": {
      "application/vnd.jupyter.widget-view+json": {
       "model_id": "08e6e3cee0b64c7d9057971d453925f1",
       "version_major": 2,
       "version_minor": 0
      },
      "text/plain": [
       "HBox(children=(FloatProgress(value=0.0, max=6.0), HTML(value='')))"
      ]
     },
     "metadata": {},
     "output_type": "display_data"
    },
    {
     "name": "stdout",
     "output_type": "stream",
     "text": [
      "\n"
     ]
    },
    {
     "data": {
      "application/vnd.jupyter.widget-view+json": {
       "model_id": "b74a67c8313146f394a16e8ece928677",
       "version_major": 2,
       "version_minor": 0
      },
      "text/plain": [
       "HBox(children=(FloatProgress(value=0.0, max=23.0), HTML(value='')))"
      ]
     },
     "metadata": {},
     "output_type": "display_data"
    },
    {
     "name": "stdout",
     "output_type": "stream",
     "text": [
      "\n",
      "0.7096774193548387 0.9130434782608692\n"
     ]
    },
    {
     "data": {
      "application/vnd.jupyter.widget-view+json": {
       "model_id": "1b5279f9b7c4448497f51f2470e694d0",
       "version_major": 2,
       "version_minor": 0
      },
      "text/plain": [
       "HBox(children=(FloatProgress(value=0.0, max=6.0), HTML(value='')))"
      ]
     },
     "metadata": {},
     "output_type": "display_data"
    },
    {
     "name": "stdout",
     "output_type": "stream",
     "text": [
      "\n"
     ]
    },
    {
     "data": {
      "application/vnd.jupyter.widget-view+json": {
       "model_id": "f0843e46b1904a9abe92e88bfa97360e",
       "version_major": 2,
       "version_minor": 0
      },
      "text/plain": [
       "HBox(children=(FloatProgress(value=0.0, max=23.0), HTML(value='')))"
      ]
     },
     "metadata": {},
     "output_type": "display_data"
    },
    {
     "name": "stdout",
     "output_type": "stream",
     "text": [
      "\n",
      "0.7311827956989247 0.9565217391304344\n"
     ]
    },
    {
     "data": {
      "application/vnd.jupyter.widget-view+json": {
       "model_id": "f3f425cd93ab4efb9269c903ef220f5e",
       "version_major": 2,
       "version_minor": 0
      },
      "text/plain": [
       "HBox(children=(FloatProgress(value=0.0, max=6.0), HTML(value='')))"
      ]
     },
     "metadata": {},
     "output_type": "display_data"
    },
    {
     "name": "stdout",
     "output_type": "stream",
     "text": [
      "\n"
     ]
    },
    {
     "data": {
      "application/vnd.jupyter.widget-view+json": {
       "model_id": "72f2766e04bb459d8acc209892346f90",
       "version_major": 2,
       "version_minor": 0
      },
      "text/plain": [
       "HBox(children=(FloatProgress(value=0.0, max=23.0), HTML(value='')))"
      ]
     },
     "metadata": {},
     "output_type": "display_data"
    },
    {
     "name": "stdout",
     "output_type": "stream",
     "text": [
      "\n",
      "0.7204301075268817 0.9565217391304344\n",
      "\n"
     ]
    }
   ],
   "source": [
    "##################################start training and validating#####################################################\n",
    "max_epoch = 23\n",
    "tmp_path = './models/temp.pth'\n",
    "\n",
    "for epoch in tqdm(range(max_epoch)):        \n",
    "    ###Train Phase\n",
    "    \n",
    "    # Initialize Loss and Accuracy\n",
    "    train_loss = 0.0\n",
    "    train_accu = 0.0\n",
    "\n",
    "    #########TEMPORARY################################\n",
    "    # Load the saved MODEL AND OPTIMIZER after evaluation.\n",
    "    if epoch > 0:\n",
    "        checkpoint = torch.load(tmp_path)\n",
    "        model2.load_state_dict(checkpoint['model2_state_dict'])\n",
    "        optimizer2.load_state_dict(checkpoint['optimizer2_state_dict'])\n",
    "       \n",
    "    ##################################################\n",
    "\n",
    "    # Iterate over the train_dataloader\n",
    "    with tqdm(total=len(fft_train_dl)) as pbar:\n",
    "        for sample in fft_train_dl:            \n",
    "            curr_loss, num_correct = train(model2, optimizer2, sample)\n",
    "            train_loss += curr_loss / len(fft_train_dl) \n",
    "            train_accu += num_correct / len(fft_train_set)\n",
    "            pbar.update(1)\n",
    "    \n",
    "    \n",
    "    ### Write the current loss and accuracy to the Tensorboard\n",
    "    with train_summary_writer.as_default():\n",
    "        tf.summary.scalar('loss', train_loss, step=epoch)                \n",
    "        tf.summary.scalar('accuracy', train_accu, step=epoch)         \n",
    "         \n",
    "    ###############TEMPORARY#######################################\n",
    "    # save the model and optimizer's information before the evaulation\n",
    "    checkpoint = {\n",
    "        'model2_state_dict': model2.state_dict(),\n",
    "        'optimizer2_state_dict': optimizer2.state_dict(),\n",
    "        \n",
    "    }\n",
    "    torch.save(checkpoint, tmp_path)\n",
    "    ###################################################################\n",
    "    \n",
    "    ### Validate Phase\n",
    "    # Initialize Loss and Accuracy\n",
    "    test_loss = 0.0\n",
    "    test_accu = 0.0\n",
    "\n",
    "    # Iterate over the test_dataloader\n",
    "    with tqdm(total=len(fft_test_dl)) as pbar:\n",
    "        for idx, sample in enumerate(fft_test_dl): \n",
    "            curr_loss, num_correct = test(model2, sample)\n",
    "            test_loss += curr_loss / len(fft_test_dl)\n",
    "            test_accu += num_correct / len(fft_test_set)\n",
    "            pbar.update(1)\n",
    "    \n",
    "    ### Write the current loss and accuracy to the Tensorboard\n",
    "    with test_summary_writer.as_default():\n",
    "        tf.summary.scalar('loss', test_loss, step=epoch)\n",
    "        tf.summary.scalar('accuracy', test_accu, step=epoch)    \n",
    "        \n",
    "    print(train_accu, test_accu)     \n",
    "\n",
    "os.remove(tmp_path)"
   ]
  },
  {
   "cell_type": "code",
   "execution_count": 26,
   "metadata": {},
   "outputs": [
    {
     "name": "stderr",
     "output_type": "stream",
     "text": [
      "/opt/conda/lib/python3.7/site-packages/ipykernel_launcher.py:4: UserWarning: To copy construct from a tensor, it is recommended to use sourceTensor.clone().detach() or sourceTensor.clone().detach().requires_grad_(True), rather than torch.tensor(sourceTensor).\n",
      "  after removing the cwd from sys.path.\n",
      "/opt/conda/lib/python3.7/site-packages/ipykernel_launcher.py:5: UserWarning: To copy construct from a tensor, it is recommended to use sourceTensor.clone().detach() or sourceTensor.clone().detach().requires_grad_(True), rather than torch.tensor(sourceTensor).\n",
      "  \"\"\"\n"
     ]
    },
    {
     "name": "stdout",
     "output_type": "stream",
     "text": [
      "Accuracy = 0.6956521739130435\n",
      "Sensitivity/ TPR = 0.42857142857142855\n",
      "Specifity/ TNR = 0.8125\n",
      "Balanced Accuracy = 0.6205357142857143\n",
      "tp: 3  tn: 13  fp: 3  fn: 4\n"
     ]
    }
   ],
   "source": [
    "####Evaluation for model 1\n",
    "accuracy=tp=tn=fn=fp=p=n=0\n",
    "for i in test_set:\n",
    "    x=model(torch.tensor(i['sgram']).float().to(device).unsqueeze(1))[0][0].item()\n",
    "    y=model(torch.tensor(i['sgram']).float().to(device).unsqueeze(1))[0][1].item()\n",
    "    \n",
    "    if x>y:\n",
    "        pred=0\n",
    "    else:\n",
    "        pred=1\n",
    "    \n",
    "    if i['label']== 1:\n",
    "        p+=1\n",
    "    else:\n",
    "        n+=1\n",
    "        \n",
    "    if i['label']==pred:  \n",
    "        accuracy += 1\n",
    "        if pred == 1:\n",
    "            tp += 1\n",
    "        else:\n",
    "            tn += 1    \n",
    "    else:\n",
    "        if pred == 1:\n",
    "            fp += 1\n",
    "        else:\n",
    "            fn += 1\n",
    "        \n",
    "accuracy /= len(fft_test_set)\n",
    "\n",
    "print('Accuracy =', accuracy)\n",
    "print('Sensitivity/ TPR =', tp/p)\n",
    "print('Specifity/ TNR =', tn/n)\n",
    "print('Balanced Accuracy =', (tp/p + tn/n)/2)\n",
    "\n",
    "print('tp:',tp, ' tn:',tn, ' fp:',fp, ' fn:', fn)"
   ]
  },
  {
   "cell_type": "code",
   "execution_count": 27,
   "metadata": {},
   "outputs": [
    {
     "name": "stdout",
     "output_type": "stream",
     "text": [
      "Accuracy = 0.9565217391304348\n",
      "Sensitivity = 0.8571428571428571\n",
      "Specifity = 1.0\n",
      "Balanced Accuracy = 0.9285714285714286\n",
      "tp: 6  tn: 16  fp: 0  fn: 1\n"
     ]
    }
   ],
   "source": [
    "####Evaluation for model 2\n",
    "accuracy=tp=tn=fn=fp=p=n=0\n",
    "for i in fft_test_set:\n",
    "    x=model2(torch.tensor(i['sgram']).float().to(device))[0].item()\n",
    "    y=model2(torch.tensor(i['sgram']).float().to(device))[1].item()\n",
    "    \n",
    "    if x>y:\n",
    "        pred=0\n",
    "    else:\n",
    "        pred=1\n",
    "    \n",
    "    if i['label']== 1:\n",
    "        p+=1\n",
    "    else:\n",
    "        n+=1\n",
    "        \n",
    "    if i['label']==pred:  \n",
    "        accuracy += 1\n",
    "        if pred == 1:\n",
    "            tp += 1\n",
    "        else:\n",
    "            tn += 1    \n",
    "    else:\n",
    "        if pred == 1:\n",
    "            fp += 1\n",
    "        else:\n",
    "            fn += 1\n",
    "        \n",
    "accuracy /= len(fft_test_set)\n",
    "\n",
    "print('Accuracy =', accuracy)\n",
    "print('Sensitivity =', tp/p)\n",
    "print('Specifity =', tn/n)\n",
    "print('Balanced Accuracy =', (tp/p + tn/n)/2)\n",
    "\n",
    "print('tp:',tp, ' tn:',tn, ' fp:',fp, ' fn:', fn)"
   ]
  }
 ],
 "metadata": {
  "kernelspec": {
   "display_name": "Python 3",
   "language": "python",
   "name": "python3"
  },
  "language_info": {
   "codemirror_mode": {
    "name": "ipython",
    "version": 3
   },
   "file_extension": ".py",
   "mimetype": "text/x-python",
   "name": "python",
   "nbconvert_exporter": "python",
   "pygments_lexer": "ipython3",
   "version": "3.7.7"
  }
 },
 "nbformat": 4,
 "nbformat_minor": 4
}
